{
 "cells": [
  {
   "cell_type": "markdown",
   "id": "28847ec4",
   "metadata": {},
   "source": [
    "# Plot Limburg site survey"
   ]
  },
  {
   "cell_type": "markdown",
   "id": "63b5f52e",
   "metadata": {},
   "source": [
    "If you don't have the required packages installed yet, run the stuff below first."
   ]
  },
  {
   "cell_type": "code",
   "execution_count": null,
   "id": "112698a4",
   "metadata": {},
   "outputs": [],
   "source": [
    "# !conda install matplotlib cartopy\n",
    "!pip install git+https://github.com/TAHMO/OpenRiverCamLib.git\n"
   ]
  },
  {
   "cell_type": "markdown",
   "id": "185a1328",
   "metadata": {},
   "source": [
    "Import the necessary packages"
   ]
  },
  {
   "cell_type": "code",
   "execution_count": null,
   "id": "3791957f",
   "metadata": {},
   "outputs": [],
   "source": [
    "%matplotlib inline\n",
    "import OpenRiverCam as orc\n",
    "import matplotlib.pyplot as plt\n",
    "import cv2"
   ]
  },
  {
   "cell_type": "markdown",
   "id": "2cf66e12",
   "metadata": {},
   "source": [
    "Instead of having to type a very large amount of variables here, all information about the site is collected in a fiule called `example_data.py`. We import this below. You can inspect the file yourself in a IDE or text editor/viewer. All variables should be available after sourcing it."
   ]
  },
  {
   "cell_type": "code",
   "execution_count": null,
   "id": "49ab2b88",
   "metadata": {},
   "outputs": [],
   "source": [
    "from example_data import *\n",
    "# check gcps\n",
    "gcps"
   ]
  },
  {
   "cell_type": "markdown",
   "id": "661fc86c",
   "metadata": {},
   "source": [
    "Above you can see the GCP information we need to reproject in a dictionary. You won't be needing this, but still cool to understand the process.\n",
    "* src: the points in a (lens corrected) single frame measured in cols, rows in the frame, where we know the geographical x, y, z coordinates\n",
    "* dst: the x, y geographical coordinates (in a local projection) of the same locations\n",
    "* z_0: the measured height (with GPS, referenced to a typical geographical datum) at those locations. All gcps are taken at the same height hence this is just one number\n",
    "* h_ref: the height of the water level as measured on the staff gauge. This is used so that we can refer back what water level in staff gauge, relates to water level in GPS coordinates."
   ]
  },
  {
   "cell_type": "markdown",
   "id": "f1d558fe",
   "metadata": {},
   "source": [
    "# 3D map of collected data\n",
    "Below, a plot of the bathymetry is shown. The camera is positioned such that it looks at a slant angle to the cross-section. The cross section is measured until quite far bank inwards."
   ]
  },
  {
   "cell_type": "code",
   "execution_count": null,
   "id": "dd3587d1",
   "metadata": {},
   "outputs": [],
   "source": [
    "f = plt.figure(figsize=(16, 16))\n",
    "ax = plt.axes(projection='3d')\n",
    "coords = list(zip(*bathymetry[\"coords\"]))\n",
    "ax.scatter3D(*coords, c=coords[-1], cmap='rainbow', label=\"cross section\")\n",
    "ax.plot3D(\n",
    "    (\n",
    "        lensPosition[0],\n",
    "        lensPosition[0]\n",
    "    ), (\n",
    "        lensPosition[1],\n",
    "        lensPosition[1]\n",
    "    ), (\n",
    "        lensPosition[2],\n",
    "        np.array(coords[-1]).min() # top of pole to the channel bottom coordinate\n",
    "\n",
    "    ), color=\"b\", linestyle=\"--\", label=\"channel bottom - top pole\"\n",
    ")\n",
    "\n",
    "ax.plot3D(\n",
    "    (\n",
    "        lensPosition[0],\n",
    "        lensPosition[0]\n",
    "    ), (\n",
    "        lensPosition[1],\n",
    "        lensPosition[1]\n",
    "    ), (\n",
    "        lensPosition[2],\n",
    "        lensPosition[2] - 3. # lens pole is about 3 meters, we plot the pole height here\n",
    "\n",
    "    ), color=\"b\",  label=\"pole\"\n",
    ")\n",
    "\n",
    "for n, gcp in enumerate(gcps[\"dst\"]):\n",
    "    if n ==3:\n",
    "        ax.scatter3D(*gcp, gcps[\"z_0\"], color=\"k\", marker=\"s\", label=\"marker\")\n",
    "    else:\n",
    "        ax.scatter3D(*gcp, gcps[\"z_0\"], color=\"k\", marker=\"s\")\n",
    "\n",
    "ax.scatter3D(*lensPosition, cmap=\"Blues\", label=\"camera\")\n",
    "\n",
    "ax.legend()"
   ]
  },
  {
   "cell_type": "code",
   "execution_count": null,
   "id": "f9b2def7",
   "metadata": {},
   "outputs": [],
   "source": []
  }
 ],
 "metadata": {
  "kernelspec": {
   "display_name": "Python 3",
   "language": "python",
   "name": "python3"
  },
  "language_info": {
   "codemirror_mode": {
    "name": "ipython",
    "version": 3
   },
   "file_extension": ".py",
   "mimetype": "text/x-python",
   "name": "python",
   "nbconvert_exporter": "python",
   "pygments_lexer": "ipython3",
   "version": "3.8.8"
  }
 },
 "nbformat": 4,
 "nbformat_minor": 5
}
